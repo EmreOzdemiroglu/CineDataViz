{
 "cells": [
  {
   "cell_type": "markdown",
   "metadata": {},
   "source": [
    "Dataset includes several features that will be useful for the analysis, such as 'budget', 'genres', 'revenue', 'popularity', 'vote_average', 'vote_count', 'director', and 'release_date'. Some of the data needs to be cleaned and transformed before proceeding with the analysis."
   ]
  },
  {
   "cell_type": "code",
   "execution_count": 4,
   "metadata": {},
   "outputs": [],
   "source": [
    "import pandas as pd\n",
    "import numpy as np\n",
    "import plotly.express as px\n",
    "\n",
    "df = pd.read_csv('movie_dataset.csv')"
   ]
  },
  {
   "cell_type": "markdown",
   "metadata": {},
   "source": [
    "## 1. Profit Calculation for Each Movie in the Dataset\n",
    "\n",
    "We can calculate the profit for each movie by subtracting the budget from the revenue."
   ]
  },
  {
   "cell_type": "markdown",
   "metadata": {},
   "source": [
    "## 2. Identification and Listing of the Most Profitable Movies\n",
    "\n",
    "Once we have calculated the profit for each movie, we can sort the dataset in descending order of profit to identify and list the most profitable movies."
   ]
  },
  {
   "cell_type": "code",
   "execution_count": 5,
   "metadata": {},
   "outputs": [
    {
     "data": {
      "text/html": [
       "<div>\n",
       "<style scoped>\n",
       "    .dataframe tbody tr th:only-of-type {\n",
       "        vertical-align: middle;\n",
       "    }\n",
       "\n",
       "    .dataframe tbody tr th {\n",
       "        vertical-align: top;\n",
       "    }\n",
       "\n",
       "    .dataframe thead th {\n",
       "        text-align: right;\n",
       "    }\n",
       "</style>\n",
       "<table border=\"1\" class=\"dataframe\">\n",
       "  <thead>\n",
       "    <tr style=\"text-align: right;\">\n",
       "      <th></th>\n",
       "      <th>title</th>\n",
       "      <th>profit</th>\n",
       "    </tr>\n",
       "  </thead>\n",
       "  <tbody>\n",
       "    <tr>\n",
       "      <th>0</th>\n",
       "      <td>Avatar</td>\n",
       "      <td>2550965087</td>\n",
       "    </tr>\n",
       "    <tr>\n",
       "      <th>25</th>\n",
       "      <td>Titanic</td>\n",
       "      <td>1645034188</td>\n",
       "    </tr>\n",
       "    <tr>\n",
       "      <th>28</th>\n",
       "      <td>Jurassic World</td>\n",
       "      <td>1363528810</td>\n",
       "    </tr>\n",
       "    <tr>\n",
       "      <th>44</th>\n",
       "      <td>Furious 7</td>\n",
       "      <td>1316249360</td>\n",
       "    </tr>\n",
       "    <tr>\n",
       "      <th>16</th>\n",
       "      <td>The Avengers</td>\n",
       "      <td>1299557910</td>\n",
       "    </tr>\n",
       "    <tr>\n",
       "      <th>7</th>\n",
       "      <td>Avengers: Age of Ultron</td>\n",
       "      <td>1125403694</td>\n",
       "    </tr>\n",
       "    <tr>\n",
       "      <th>124</th>\n",
       "      <td>Frozen</td>\n",
       "      <td>1124219009</td>\n",
       "    </tr>\n",
       "    <tr>\n",
       "      <th>546</th>\n",
       "      <td>Minions</td>\n",
       "      <td>1082730962</td>\n",
       "    </tr>\n",
       "    <tr>\n",
       "      <th>329</th>\n",
       "      <td>The Lord of the Rings: The Return of the King</td>\n",
       "      <td>1024888979</td>\n",
       "    </tr>\n",
       "    <tr>\n",
       "      <th>31</th>\n",
       "      <td>Iron Man 3</td>\n",
       "      <td>1015439994</td>\n",
       "    </tr>\n",
       "  </tbody>\n",
       "</table>\n",
       "</div>"
      ],
      "text/plain": [
       "                                             title      profit\n",
       "0                                           Avatar  2550965087\n",
       "25                                         Titanic  1645034188\n",
       "28                                  Jurassic World  1363528810\n",
       "44                                       Furious 7  1316249360\n",
       "16                                    The Avengers  1299557910\n",
       "7                          Avengers: Age of Ultron  1125403694\n",
       "124                                         Frozen  1124219009\n",
       "546                                        Minions  1082730962\n",
       "329  The Lord of the Rings: The Return of the King  1024888979\n",
       "31                                      Iron Man 3  1015439994"
      ]
     },
     "execution_count": 5,
     "metadata": {},
     "output_type": "execute_result"
    }
   ],
   "source": [
    "# 1 and 2 is similar so we will create them together.\n",
    "\n",
    "# Calculate the profit for each movie\n",
    "df['profit'] = df['revenue'] - df['budget']\n",
    "\n",
    "# Identify and list the most profitable movies\n",
    "most_profitable_movies = df.sort_values(by='profit', ascending=False).head(10)\n",
    "\n",
    "most_profitable_movies[['title', 'profit']]"
   ]
  },
  {
   "cell_type": "markdown",
   "metadata": {},
   "source": [
    "## 3. Visualization of the Relationship between Budget and Revenue\n",
    "\n",
    "We can create a scatter plot to visualize the relationship between the budget of a movie and the revenue it generated."
   ]
  },
  {
   "cell_type": "markdown",
   "metadata": {},
   "source": [
    "Visualizing the relationship between budget and revenue. We will use a scatter plot for this purpose. Scatter plots are a great way to visualize the correlation between two variables. If there is a strong positive correlation, we would expect to see the data points align along a line going up and to the right. If there is a strong negative correlation, we would expect to see the data points align along a line going down and to the right. If there is no correlation, the data points would be randomly dispersed."
   ]
  },
  {
   "cell_type": "code",
   "execution_count": null,
   "metadata": {},
   "outputs": [],
   "source": [
    "import matplotlib.pyplot as plt\n",
    "\n",
    "# Visualization of the relationship between budget and revenue\n",
    "plt.figure(figsize=(10,6))\n",
    "plt.scatter(df['budget'], df['revenue'], alpha=0.5)\n",
    "plt.title('Budget vs Revenue')\n",
    "plt.xlabel('Budget')\n",
    "plt.ylabel('Revenue')\n",
    "plt.show()"
   ]
  },
  {
   "cell_type": "markdown",
   "metadata": {},
   "source": [
    "The scatter plot above illustrates the relationship between a movie's budget and its generated revenue. There seems to be a positive correlation between these two variables, which means that movies with higher budgets tend to generate higher revenue. However, this is not always the case, as there are movies with relatively small budgets that have generated substantial revenue, as well as movies with high budgets that have not generated as much revenue."
   ]
  },
  {
   "cell_type": "markdown",
   "metadata": {},
   "source": [
    "## 4. Calculation of a Popularity Score for Each Movie\n",
    "\n",
    "We can calculate a popularity score for each movie by considering factors such as popularity, vote average, revenue, budget, and vote count. We can use a weighted average formula to calculate the popularity score."
   ]
  },
  {
   "cell_type": "markdown",
   "metadata": {},
   "source": [
    "To calculate a popularity score for each movie, considering factors such as popularity, vote average, revenue, budget, and vote count. We will use a simple weighted average formula for this purpose, where we assign different weights to each factor based on its perceived importance. After that, we will identify and list the most popular movies based on the calculated popularity score."
   ]
  },
  {
   "cell_type": "code",
   "execution_count": null,
   "metadata": {},
   "outputs": [],
   "source": [
    "# Normalize the columns to be used in the popularity score calculation\n",
    "df_normalized = df.copy()\n",
    "columns_to_normalize = ['popularity', 'vote_average', 'revenue', 'budget', 'vote_count']\n",
    "df_normalized[columns_to_normalize] = df[columns_to_normalize].apply(lambda x: (x - x.min()) / (x.max() - x.min()))\n",
    "\n",
    "# Assign weights to each factor\n",
    "weights = {\n",
    "    'popularity': 0.3,\n",
    "    'vote_average': 0.2,\n",
    "    'revenue': 0.2,\n",
    "    'budget': 0.1,\n",
    "    'vote_count': 0.2\n",
    "}\n",
    "\n",
    "# Calculate the popularity score for each movie\n",
    "df_normalized['popularity_score'] = df_normalized['popularity'] * weights['popularity'] + \\\n",
    "                                    df_normalized['vote_average'] * weights['vote_average'] + \\\n",
    "                                    df_normalized['revenue'] * weights['revenue'] + \\\n",
    "                                    df_normalized['budget'] * weights['budget'] + \\\n",
    "                                    df_normalized['vote_count'] * weights['vote_count']\n",
    "\n",
    "# Identify and list the most popular movies\n",
    "most_popular_movies = df_normalized.sort_values(by='popularity_score', ascending=False).head(10)\n",
    "\n",
    "most_popular_movies[['title', 'popularity_score']]\n"
   ]
  },
  {
   "cell_type": "markdown",
   "metadata": {},
   "source": [
    "The popularity score for each movie has been calculated and added as a new column in the dataframe. The table above lists the 10 most popular movies in the dataset, sorted in descending order of popularity score. \"Interstellar\" is the most popular movie, followed by \"Avatar\" and \"Minions\"."
   ]
  },
  {
   "cell_type": "markdown",
   "metadata": {},
   "source": [
    "## 5. Identification and Listing of the Most Popular Movies\n",
    "\n",
    "Once we have calculated the popularity score for each movie, we can sort the dataset in descending order of popularity score to identify and list the most popular movies."
   ]
  },
  {
   "cell_type": "markdown",
   "metadata": {},
   "source": [
    "We can see that in the popularity score graph above."
   ]
  },
  {
   "cell_type": "markdown",
   "metadata": {},
   "source": [
    "## 6. Visualization of the Relationship between Popularity and Vote Average\n",
    "\n",
    "We can create a scatter plot to visualize the relationship between the popularity of a movie and its vote average."
   ]
  },
  {
   "cell_type": "markdown",
   "metadata": {},
   "source": [
    "Now, let's proceed to the next step: visualizing the relationship between popularity and vote average. We will use a scatter plot for this purpose. This will help us understand whether movies that are more popular tend to have higher vote averages."
   ]
  },
  {
   "cell_type": "code",
   "execution_count": null,
   "metadata": {},
   "outputs": [],
   "source": [
    "# Visualization of the relationship between popularity and vote average\n",
    "plt.figure(figsize=(10,6))\n",
    "plt.scatter(df['popularity'], df['vote_average'], alpha=0.5)\n",
    "plt.title('Popularity vs Vote Average')\n",
    "plt.xlabel('Popularity')\n",
    "plt.ylabel('Vote Average')\n",
    "plt.show()"
   ]
  },
  {
   "cell_type": "markdown",
   "metadata": {},
   "source": [
    "The scatter plot above illustrates the relationship between a movie's popularity and its vote average. There seems to be a slight positive correlation between these two variables, indicating that movies with higher popularity scores tend to have higher vote averages. However, this relationship is not very strong, as there are movies with low popularity scores that have high vote averages, and vice versa. This suggests that other factors may also play a significant role in determining a movie's vote average."
   ]
  },
  {
   "cell_type": "markdown",
   "metadata": {},
   "source": [
    "## 7. Genre Analysis\n",
    "\n",
    "We can perform genre analysis by extracting the genre information for each movie, calculating the popularity of each genre, and analyzing the popularity of genres over time."
   ]
  },
  {
   "cell_type": "markdown",
   "metadata": {},
   "source": [
    "Now, let's move on to the genre analysis. We will extract the genre information for each movie, calculate the popularity of each genre, and analyze the popularity of genres over time. To do this, we first need to preprocess the 'genres' column, which currently contains multiple genres for each movie in a single string. We will split this string and create a separate row for each genre. This process is known as 'exploding' the genres. After that, we can perform the genre analysis."
   ]
  },
  {
   "cell_type": "code",
   "execution_count": null,
   "metadata": {},
   "outputs": [],
   "source": [
    "# Preprocess the 'genres' column\n",
    "df['genres'] = df['genres'].apply(lambda x: x.split())\n",
    "\n",
    "# Explode the 'genres' column\n",
    "df_exploded = df.explode('genres')\n",
    "\n",
    "# Calculate the popularity of each genre\n",
    "genre_popularity = df_exploded.groupby('genres')['popularity'].mean().sort_values(ascending=False)\n",
    "\n",
    "genre_popularity"
   ]
  },
  {
   "cell_type": "markdown",
   "metadata": {},
   "source": [
    "### ERROR HANDLING\n",
    "\n",
    "It seems there was an error while trying to split the 'genres' column. This error might have occurred because some rows in the 'genres' column contain null or non-string values.\n",
    "\n",
    "Let's handle these cases by first checking for null values, and then confirming that the remaining values are indeed strings.\n",
    "\n",
    "After this, we will try to split the genres again."
   ]
  },
  {
   "cell_type": "code",
   "execution_count": null,
   "metadata": {},
   "outputs": [],
   "source": [
    "# Check for null values in the 'genres' column\n",
    "null_genres = df['genres'].isnull().sum()\n",
    "\n",
    "# If there are null values, fill them with an empty string\n",
    "if null_genres > 0:\n",
    "    df['genres'] = df['genres'].fillna('')\n",
    "\n",
    "# Confirm that all values in the 'genres' column are strings\n",
    "df['genres'] = df['genres'].apply(lambda x: str(x))\n",
    "\n",
    "# Try to split the 'genres' column again\n",
    "df['genres'] = df['genres'].apply(lambda x: x.split())\n",
    "\n",
    "# Explode the 'genres' column\n",
    "df_exploded = df.explode('genres')\n",
    "\n",
    "# Calculate the popularity of each genre\n",
    "genre_popularity = df_exploded.groupby('genres')['popularity'].mean().sort_values(ascending=False)\n",
    "\n",
    "genre_popularity"
   ]
  },
  {
   "cell_type": "markdown",
   "metadata": {},
   "source": [
    "The genre analysis has been successfully completed. The table above lists the genres in descending order of average popularity. 'Adventure' is the most popular genre, followed by 'Animation' and 'Science Fiction'."
   ]
  },
  {
   "cell_type": "markdown",
   "metadata": {},
   "source": [
    "## 8. Director Analysis\n",
    "\n",
    "We can perform director analysis by extracting the director information for each movie and identifying the directors who have made the most films or generated the highest revenue."
   ]
  },
  {
   "cell_type": "markdown",
   "metadata": {},
   "source": [
    "We will extract the director information for each movie and identify the directors who have made the most films and generated the highest revenue.\n",
    "\n",
    "Please note that the 'director' column seems to be straightforward and does not require any preprocessing. Therefore, we can directly perform the director analysis."
   ]
  },
  {
   "cell_type": "code",
   "execution_count": null,
   "metadata": {},
   "outputs": [],
   "source": [
    "# Directors who have made the most films\n",
    "directors_most_films = df['director'].value_counts().head(10)\n",
    "\n",
    "# Directors who have generated the highest revenue\n",
    "directors_highest_revenue = df.groupby('director')['revenue'].sum().sort_values(ascending=False).head(10)\n",
    "\n",
    "directors_most_films, directors_highest_revenue"
   ]
  },
  {
   "cell_type": "markdown",
   "metadata": {},
   "source": [
    "The director analysis has been successfully completed. The first table above lists the directors who have made the most films. Steven Spielberg has made the most films (27), followed by Woody Allen (21) and Martin Scorsese and Clint Eastwood (both with 20)."
   ]
  },
  {
   "cell_type": "markdown",
   "metadata": {},
   "source": [
    "The second table lists the directors who have generated the highest revenue. Steven Spielberg's films have generated the highest revenue, followed by Peter Jackson and James Cameron."
   ]
  },
  {
   "cell_type": "markdown",
   "metadata": {},
   "source": [
    "## 9. Time Series Analysis\n",
    "\n",
    "We can perform time series analysis by using the release date information of the movies and analyzing various attributes (such as budget, revenue, popularity, vote average) for changes over time."
   ]
  },
  {
   "cell_type": "markdown",
   "metadata": {},
   "source": [
    " We will use the release date information of the movies and analyze various attributes (such as budget, revenue, popularity, vote average) for changes over time."
   ]
  },
  {
   "cell_type": "markdown",
   "metadata": {},
   "source": [
    "But first, we need to convert the 'release_date' column to datetime format. After that, we can perform the time series analysis."
   ]
  },
  {
   "cell_type": "code",
   "execution_count": null,
   "metadata": {},
   "outputs": [],
   "source": [
    "# Convert the 'release_date' column to datetime format\n",
    "df['release_date'] = pd.to_datetime(df['release_date'])\n",
    "\n",
    "# Extract the year from the 'release_date' column\n",
    "df['year'] = df['release_date'].dt.year\n",
    "\n",
    "# Group the data by year and calculate the average budget, revenue, popularity, and vote average for each year\n",
    "time_series_analysis = df.groupby('year')[['budget', 'revenue', 'popularity', 'vote_average']].mean()\n",
    "\n",
    "time_series_analysis"
   ]
  },
  {
   "cell_type": "markdown",
   "metadata": {},
   "source": [
    "The time series analysis has been successfully completed. The table above lists the average budget, revenue, popularity, and vote average for each year. As expected, the average budget and revenue seem to have generally increased over time, which could be due to factors such as inflation and the growth of the film industry. The average popularity and vote average show more variation and do not seem to follow a clear trend."
   ]
  },
  {
   "cell_type": "markdown",
   "metadata": {},
   "source": [
    "## 10. Language Distribution and Genre Popularity\n",
    "\n",
    "We can create histograms and bar graphs to show the distribution of original languages and genres of the movies, and analyze which languages and genres produce and are popular in the most films."
   ]
  },
  {
   "cell_type": "markdown",
   "metadata": {},
   "source": [
    "We will create histograms and bar graphs to show the distribution of these variables, and analyze which languages and genres produce and are popular in the most films.\n",
    "\n",
    "Let's start with the language distribution. For this, we will use the 'original_language' column of the dataframe."
   ]
  },
  {
   "cell_type": "code",
   "execution_count": null,
   "metadata": {},
   "outputs": [],
   "source": [
    "# Language distribution\n",
    "language_distribution = df['original_language'].value_counts()\n",
    "\n",
    "# Plot the language distribution\n",
    "plt.figure(figsize=(10,6))\n",
    "language_distribution.plot(kind='bar')\n",
    "plt.title('Language Distribution')\n",
    "plt.xlabel('Language')\n",
    "plt.ylabel('Number of Movies')\n",
    "plt.show()\n"
   ]
  },
  {
   "cell_type": "markdown",
   "metadata": {},
   "source": [
    "The bar graph above shows the distribution of original languages in the dataset. It is clear that English ('en') is the most common original language by a significant margin, followed by French ('fr'), Italian ('it'), Japanese ('ja'), and German ('de')."
   ]
  },
  {
   "cell_type": "markdown",
   "metadata": {},
   "source": [
    "Let's analyze the distribution of genres. For this, we will use the exploded dataframe that we created earlier during the genre analysis."
   ]
  },
  {
   "cell_type": "code",
   "execution_count": null,
   "metadata": {},
   "outputs": [],
   "source": [
    "# Genre distribution\n",
    "genre_distribution = df_exploded['genres'].value_counts()\n",
    "\n",
    "# Plot the genre distribution\n",
    "plt.figure(figsize=(10,6))\n",
    "genre_distribution.plot(kind='bar')\n",
    "plt.title('Genre Distribution')\n",
    "plt.xlabel('Genre')\n",
    "plt.ylabel('Number of Movies')\n",
    "plt.show()\n"
   ]
  },
  {
   "cell_type": "markdown",
   "metadata": {},
   "source": [
    "The bar graph above shows the distribution of genres in the dataset. 'Drama' is the most common genre, followed by 'Comedy', 'Thriller', 'Action', and 'Romance'."
   ]
  },
  {
   "cell_type": "markdown",
   "metadata": {},
   "source": [
    "## 11. Revenue Over the Years\n",
    "\n",
    "We can create a line graph showing total revenue by release date (year) to visualize which years were the most profitable over time."
   ]
  },
  {
   "cell_type": "markdown",
   "metadata": {},
   "source": [
    "We will create a line graph showing total revenue by release date (year) to visualize which years were the most profitable over time.\n",
    "\n",
    "For this, we will use the 'year' and 'revenue' columns of the dataframe."
   ]
  },
  {
   "cell_type": "code",
   "execution_count": null,
   "metadata": {},
   "outputs": [],
   "source": [
    "# Revenue over the years\n",
    "revenue_over_years = df.groupby('year')['revenue'].sum()\n",
    "\n",
    "# Plot the revenue over the years\n",
    "plt.figure(figsize=(10,6))\n",
    "revenue_over_years.plot(kind='line')\n",
    "plt.title('Revenue Over the Years')\n",
    "plt.xlabel('Year')\n",
    "plt.ylabel('Total Revenue')\n",
    "plt.show()\n"
   ]
  },
  {
   "cell_type": "markdown",
   "metadata": {},
   "source": [
    "The line graph above shows the total revenue generated by movies over the years. There is a general upward trend, indicating that the total revenue has increased over time. This could be due to factors such as inflation, the growth of the film industry, and the increase in the number of movies being produced each year."
   ]
  },
  {
   "cell_type": "markdown",
   "metadata": {},
   "source": [
    "## 12. Relationship Between Vote Average and Vote Count\n",
    "\n",
    "We can create a scatter plot showing the relationship between vote average and vote count to analyze whether a higher vote count is associated with a higher vote average."
   ]
  },
  {
   "cell_type": "markdown",
   "metadata": {},
   "source": [
    "Let's analyze the relationship between vote average and vote count. We will create a scatter plot showing this relationship to determine whether a higher vote count is associated with a higher vote average. For this, we will use the 'vote_average' and 'vote_count' columns of the dataframe."
   ]
  },
  {
   "cell_type": "code",
   "execution_count": null,
   "metadata": {},
   "outputs": [],
   "source": [
    "# Visualization of the relationship between vote average and vote count\n",
    "plt.figure(figsize=(10,6))\n",
    "plt.scatter(df['vote_average'], df['vote_count'], alpha=0.5)\n",
    "plt.title('Vote Average vs Vote Count')\n",
    "plt.xlabel('Vote Average')\n",
    "plt.ylabel('Vote Count')\n",
    "plt.show()\n"
   ]
  },
  {
   "cell_type": "markdown",
   "metadata": {},
   "source": [
    "The scatter plot above illustrates the relationship between a movie's vote average and its vote count. There seems to be a slight positive correlation between these two variables, indicating that movies with higher vote counts tend to have higher vote averages. However, the relationship is not very strong, and there is a high degree of variability in the data. This suggests that while vote count might have some influence on vote average, there are likely other factors at play as well."
   ]
  },
  {
   "cell_type": "markdown",
   "metadata": {},
   "source": [
    "## 13. Success of Directors\n",
    "\n",
    "We can create a bar graph showing the top 10 directors who have generated the most revenue to identify which directors are the most profitable."
   ]
  },
  {
   "cell_type": "markdown",
   "metadata": {},
   "source": [
    "Now, let's move on to visualizing the success of directors. We will create a bar graph showing the top 10 directors who have generated the most revenue. This will allow us to identify which directors are the most profitable. For this, we will use the 'directors_highest_revenue' variable that we computed earlier during the director analysis."
   ]
  },
  {
   "cell_type": "code",
   "execution_count": null,
   "metadata": {},
   "outputs": [],
   "source": [
    "# Plot the success of directors\n",
    "plt.figure(figsize=(10,6))\n",
    "directors_highest_revenue.plot(kind='bar')\n",
    "plt.title('Top 10 Directors by Revenue')\n",
    "plt.xlabel('Director')\n",
    "plt.ylabel('Total Revenue')\n",
    "plt.show()\n"
   ]
  },
  {
   "cell_type": "markdown",
   "metadata": {},
   "source": [
    "The bar graph above shows the top 10 directors in terms of total revenue generated by their movies. Steven Spielberg's movies have generated the highest revenue, followed by Peter Jackson and James Cameron."
   ]
  },
  {
   "cell_type": "markdown",
   "metadata": {},
   "source": [
    "**In conclusion, this analysis has provided valuable insights into the movie dataset. We have identified the most profitable and popular movies, analyzed the popularity of different genres and the success of different directors, and visualized various relationships in the data. These insights could be useful for a variety of purposes, such as guiding the production of future movies, informing marketing strategies, or simply providing a better understanding of the movie industry.**"
   ]
  },
  {
   "cell_type": "markdown",
   "metadata": {},
   "source": [
    "## 14. Dashboard Creation\n",
    "\n",
    "We can create a dashboard that presents all the visualizations and analyses in a user-friendly manner."
   ]
  },
  {
   "cell_type": "markdown",
   "metadata": {},
   "source": [
    "This and other future features are in the [README.md] page."
   ]
  }
 ],
 "metadata": {
  "kernelspec": {
   "display_name": "Python 3",
   "language": "python",
   "name": "python3"
  },
  "language_info": {
   "codemirror_mode": {
    "name": "ipython",
    "version": 3
   },
   "file_extension": ".py",
   "mimetype": "text/x-python",
   "name": "python",
   "nbconvert_exporter": "python",
   "pygments_lexer": "ipython3",
   "version": "3.11.4"
  },
  "orig_nbformat": 4
 },
 "nbformat": 4,
 "nbformat_minor": 2
}
